{
 "cells": [
  {
   "cell_type": "code",
   "execution_count": null,
   "metadata": {},
   "outputs": [],
   "source": [
    "#Renaming the country codes\n",
    "country_mapping = {\n",
    "    'AUS': 'Australia', 'AUT': 'Austria', 'BEL': 'Belgium', 'CAN': 'Canada', 'CZE': 'Czech Republic',\n",
    "    'DNK': 'Denmark', 'FIN': 'Finland', 'FRA': 'France', 'DEU': 'Germany', 'GRC': 'Greece',\n",
    "    'HUN': 'Hungary', 'ISL': 'Iceland', 'IRL': 'Ireland', 'ITA': 'Italy', 'JPN': 'Japan',\n",
    "    'KOR': 'South Korea', 'LUX': 'Luxembourg', 'MEX': 'Mexico', 'NLD': 'Netherlands', 'NZL': 'New Zealand',\n",
    "    'NOR': 'Norway', 'POL': 'Poland', 'PRT': 'Portugal', 'SVK': 'Slovakia', 'ESP': 'Spain',\n",
    "    'SWE': 'Sweden', 'CHE': 'Switzerland', 'TUR': 'Turkey', 'GBR': 'United Kingdom', 'USA': 'United States',\n",
    "    'OEU': 'Other European Union', 'ALB': 'Albania', 'DZA': 'Algeria', 'ARG': 'Argentina', 'ARM': 'Armenia',\n",
    "    'AZE': 'Azerbaijan', 'BGD': 'Bangladesh', 'BLR': 'Belarus', 'BIH': 'Bosnia and Herzegovina',\n",
    "    'BRA': 'Brazil', 'BRN': 'Brunei', 'BGR': 'Bulgaria', 'KHM': 'Cambodia', 'CHL': 'Chile', 'CHN': 'China',\n",
    "    'COL': 'Colombia', 'HRV': 'Croatia', 'CYP': 'Cyprus', 'EGY': 'Egypt', 'EST': 'Estonia', 'ETH': 'Ethiopia',\n",
    "    'GEO': 'Georgia', 'GHA': 'Ghana', 'HTI': 'Haiti', 'HKG': 'Hong Kong', 'IND': 'India', 'IDN': 'Indonesia',\n",
    "    'IRN': 'Iran', 'ISR': 'Israel', 'KAZ': 'Kazakhstan', 'LVA': 'Latvia', 'LTU': 'Lithuania', 'MKD': 'North Macedonia',\n",
    "    'MYS': 'Malaysia', 'MLT': 'Malta', 'MDA': 'Moldova', 'MOZ': 'Mozambique', 'NGA': 'Nigeria', 'PAK': 'Pakistan',\n",
    "    'PRY': 'Paraguay', 'PER': 'Peru', 'PHL': 'Philippines', 'ROU': 'Romania', 'RUS': 'Russia', 'SAU': 'Saudi Arabia',\n",
    "    'SGP': 'Singapore', 'SVN': 'Slovenia', 'ZAF': 'South Africa', 'SDN': 'Sudan', 'TWN': 'Taiwan', 'TZA': 'Tanzania',\n",
    "    'THA': 'Thailand', 'UKR': 'Ukraine', 'ARE': 'United Arab Emirates', 'URY': 'Uruguay', 'VNM': 'Vietnam',\n",
    "    'ZMB': 'Zambia', 'WLD': 'World', 'SRB': 'Serbia', 'MNE': 'Montenegro', 'G20': 'Group of Twenty', 'EU28': 'European Union',\n",
    "    'OECD': 'Organization for Economic Co-operation and Development', 'AGO': 'Angola', 'BHR': 'Bahrain', 'BEN': 'Benin',\n",
    "    'BOL': 'Bolivia', 'BWA': 'Botswana', 'CMR': 'Cameroon', 'COG': 'Congo', 'CRI': 'Costa Rica', 'CIV': 'Ivory Coast',\n",
    "    'CUB': 'Cuba', 'PRK': 'North Korea', 'COD': 'Democratic Republic of the Congo', 'DOM': 'Dominican Republic',\n",
    "    'ECU': 'Ecuador', 'SLV': 'El Salvador', 'ERI': 'Eritrea', 'GAB': 'Gabon', 'GTM': 'Guatemala', 'HND': 'Honduras',\n",
    "    'IRQ': 'Iraq', 'JAM': 'Jamaica', 'JOR': 'Jordan', 'KEN': 'Kenya', 'KWT': 'Kuwait', 'KGZ': 'Kyrgyzstan',\n",
    "    'LBN': 'Lebanon', 'LBY': 'Libya', 'MNG': 'Mongolia', 'MAR': 'Morocco', 'MMR': 'Myanmar', 'NAM': 'Namibia',\n",
    "    'NPL': 'Nepal', 'NIC': 'Nicaragua', 'NER': 'Niger', 'OMN': 'Oman', 'PAN': 'Panama', 'QAT': 'Qatar', 'SEN': 'Senegal',\n",
    "    'LKA': 'Sri Lanka', 'SYR': 'Syria', 'TJK': 'Tajikistan', 'TGO': 'Togo', 'TTO': 'Trinidad and Tobago', 'TUN': 'Tunisia',\n",
    "    'TKM': 'Turkmenistan', 'UZB': 'Uzbekistan', 'VEN': 'Venezuela', 'YEM':'Yemen','ZWE':'Zimbabwe '}\n",
    "\n",
    "#DF for the countries with all the data\n",
    "df_countries = pd.DataFrame(list(country_mapping.items()),columns=['cntry_code','cntry_name'])\n"
   ]
  },
  {
   "cell_type": "code",
   "execution_count": null,
   "metadata": {},
   "outputs": [],
   "source": [
    "#Organizion and categorizing the contries\n",
    "europe_code = ['AUT', 'BEL', 'BGR', 'HRV', 'CYP', 'CZE', 'DNK', 'EST', 'FIN', 'FRA', 'DEU', 'GRC', 'HUN', 'ISL', 'IRL', 'ITA', 'LVA', 'LTU', 'LUX', 'MLT', 'NLD', 'NOR', 'POL', 'PRT', 'ROU', 'SVK', 'SVN', 'ESP', 'SWE', 'CHE', 'GBR']\n",
    "asia_code = ['ARM', 'AZE', 'BHR', 'BGD', 'BRN', 'KHM', 'CHN', 'GEO', 'HKG', 'IND', 'IDN', 'IRN', 'IRQ', 'ISR', 'JPN', 'JOR', 'KAZ', 'KOR', 'KWT', 'KGZ', 'LBN', 'MYS', 'MNG', 'MMR', 'NPL', 'OMN', 'PAK', 'PHL', 'QAT', 'SAU', 'SGP', 'LKA', 'SYR', 'TWN', 'TJK', 'THA', 'TUR', 'TKM', 'ARE', 'UZB', 'VNM', 'YEM']\n",
    "africa_code = ['DZA', 'AGO', 'BEN', 'BWA', 'CMR', 'COG', 'CIV', 'EGY', 'ERI', 'ETH', 'GAB', 'GHA', 'KEN', 'LBY', 'MNG', 'MAR', 'MOZ', 'NAM', 'NGA', 'ZAF', 'SDN', 'TZA', 'UGA', 'ZMB', 'ZWE']\n",
    "america_code = ['ARG', 'BOL', 'BRA', 'CAN', 'CHL', 'COL', 'CRI', 'CUB', 'DOM', 'ECU', 'SLV', 'GTM', 'HND', 'JAM', 'MEX', 'NIC', 'PAN', 'PRY', 'PER', 'PRI', 'SUR', 'URY', 'USA', 'VEN']\n",
    "oceania_code = ['AUS', 'NZL']\n",
    "\n",
    "#Separating the countries by continent\n",
    "mapping_europe = df_countries[df_countries['cntry_code'].isin(europe_code)]\n",
    "mapping_europe['cntry_region'] = 'Europe'\n",
    "\n",
    "mapping_asia = df_countries[df_countries['cntry_code'].isin(asia_code)]\n",
    "mapping_asia['cntry_region'] = 'Asia'\n",
    "\n",
    "mapping_africa = df_countries[df_countries['cntry_code'].isin(africa_code)]\n",
    "mapping_africa['cntry_region'] = 'Africa'\n",
    "\n",
    "mapping_america = df_countries[df_countries['cntry_code'].isin(america_code)]\n",
    "mapping_america['cntry_region'] = 'America'\n",
    "\n",
    "mapping_oceania = df_countries[df_countries['cntry_code'].isin(oceania_code)]\n",
    "mapping_oceania['cntry_region'] = 'Oceania'\n",
    "\n",
    "feat = pd.concat([mapping_europe,mapping_asia,mapping_africa,mapping_america,mapping_oceania], axis=0)\n",
    "feat = feat.sort_values(by='cntry_code')\n",
    "feat.head()"
   ]
  }
 ],
 "metadata": {
  "language_info": {
   "name": "python"
  }
 },
 "nbformat": 4,
 "nbformat_minor": 2
}
