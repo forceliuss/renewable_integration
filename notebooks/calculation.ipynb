{
 "cells": [
  {
   "cell_type": "code",
   "execution_count": null,
   "metadata": {},
   "outputs": [],
   "source": [
    "import pandas as pd\n",
    "import numpy as np\n",
    "\n",
    "import warnings\n",
    "warnings.filterwarnings('ignore')\n",
    "\n",
    "from cleaning import *\n",
    "\n",
    "\n",
    "def cntry_mean(df):\n",
    "    \n",
    "    #Converting the Ktoe into Barrels\n",
    "    kto_to_barrel = 7330 # 1 Ktoe = 7330 (Barrels of oil equivalent)\n",
    "    \n",
    "    #Simplifying the dataframes\n",
    "    df = df.rename(columns={'value' : 'value_ktoe'})\n",
    "    df = df[['cntry_name','value_ktoe','gdp','oil_price']]\n",
    "    df = df.sort_values('cntry_name')\n",
    "    \n",
    "    #GDP and Oil Price correlation\n",
    "    df['boe'] = df['gdp']/df['oil_price'] #GDP equivalent in oil Barrels\n",
    "    df['per'] = df['value_ktoe'] / (df['boe'] / kto_to_barrel)*100 #Percentage of renewable energy on the GDP, oil barrel as reference\n",
    "    \n",
    "    \n",
    "    return df\n"
   ]
  }
 ],
 "metadata": {
  "kernelspec": {
   "display_name": "LLM",
   "language": "python",
   "name": "python3"
  },
  "language_info": {
   "codemirror_mode": {
    "name": "ipython",
    "version": 3
   },
   "file_extension": ".py",
   "mimetype": "text/x-python",
   "name": "python",
   "nbconvert_exporter": "python",
   "pygments_lexer": "ipython3",
   "version": "3.11.4"
  }
 },
 "nbformat": 4,
 "nbformat_minor": 2
}
